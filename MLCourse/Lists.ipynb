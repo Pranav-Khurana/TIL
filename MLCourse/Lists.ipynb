{
  "nbformat": 4,
  "nbformat_minor": 0,
  "metadata": {
    "colab": {
      "name": "Lists.ipynb",
      "version": "0.3.2",
      "provenance": []
    },
    "kernelspec": {
      "name": "python3",
      "display_name": "Python 3"
    }
  },
  "cells": [
    {
      "cell_type": "code",
      "metadata": {
        "id": "R3VAORwdWLsz",
        "colab_type": "code",
        "outputId": "bc2213b0-f094-489f-887b-fb8058ee3555",
        "colab": {
          "base_uri": "https://localhost:8080/",
          "height": 123
        }
      },
      "source": [
        "'''\n",
        "LISTS\n",
        "\n",
        "'''\n",
        "actor = ['salman khan','sharukh khan','ranbir kapoor']\n",
        "actress= list(['katrina','kareena','sara'])\n",
        "type(actress)\n",
        "\n",
        "\n",
        "li = [1, 2, 3, 4, 80]\n",
        "print(\"ITEM AT INDEX 3:\", li[3], li[-2])\n",
        "print(\"SLICED LIST(1 to 4):\", li[1:4])\n",
        "print(\"SLICED LIST(-3 to 5):\", li[-3:])\n",
        "print(\"SLICED LIST(-4 to 4):\", li[-4:-1])\n",
        "print(\"SLICED LIST(EVERY SECOND ELEMENT BEING PRINTED):\", li[::2])\n",
        "\n",
        "li = [i for i in range(50) if i%2==0]\n",
        "print(\"MULTIPLES OF 5 IN LIST ARE:\",li[::5].)"
      ],
      "execution_count": 0,
      "outputs": [
        {
          "output_type": "stream",
          "text": [
            "ITEM AT INDEX 3: 4 4\n",
            "SLICED LIST(1 to 4): [2, 3, 4]\n",
            "SLICED LIST(-3 to 5): [3, 4, 80]\n",
            "SLICED LIST(-4 to 4): [2, 3, 4]\n",
            "SLICED LIST(EVERY SECOND ELEMENT BEING PRINTED): [1, 3, 80]\n",
            "MULTIPLES OF 5 IN LIST ARE: [0, 10, 20, 30, 40]\n"
          ],
          "name": "stdout"
        }
      ]
    }
  ]
}