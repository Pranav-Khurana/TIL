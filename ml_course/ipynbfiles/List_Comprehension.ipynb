{
  "nbformat": 4,
  "nbformat_minor": 0,
  "metadata": {
    "colab": {
      "name": "List_Comprehension.ipynb",
      "version": "0.3.2",
      "provenance": []
    },
    "kernelspec": {
      "name": "python3",
      "display_name": "Python 3"
    }
  },
  "cells": [
    {
      "cell_type": "code",
      "metadata": {
        "id": "fN9Yfbb35Za0",
        "colab_type": "code",
        "outputId": "d682d8ef-d320-4ed7-88a6-df1415cffb6a",
        "colab": {
          "base_uri": "https://localhost:8080/",
          "height": 86
        }
      },
      "source": [
        "'''\n",
        "List Comprehension\n",
        "\n",
        "\n",
        "syntax:  \n",
        "\n",
        "li = [arguments expression condition]\n",
        "'''\n",
        "\n",
        "li = [x for x in range(10) if x%2==0]\n",
        "print(li)\n",
        "\n",
        "cube = []\n",
        "for x in range(5):\n",
        "  cube.append(x**3)\n",
        "print(cube)\n",
        "\n",
        "quad = [x**4 for x in range(5)]\n",
        "print(quad)\n",
        "\n",
        "li = [(x,x**3) for x in range(5)]\n",
        "print(li)"
      ],
      "execution_count": 1,
      "outputs": [
        {
          "output_type": "stream",
          "text": [
            "[0, 2, 4, 6, 8]\n",
            "[0, 1, 8, 27, 64]\n",
            "[0, 1, 16, 81, 256]\n",
            "[(0, 0), (1, 1), (2, 8), (3, 27), (4, 64)]\n"
          ],
          "name": "stdout"
        }
      ]
    },
    {
      "cell_type": "code",
      "metadata": {
        "id": "rCPYP1Rl9JVU",
        "colab_type": "code",
        "outputId": "f0d32aee-7c64-429e-c5c4-a9c2f604196a",
        "colab": {
          "base_uri": "https://localhost:8080/",
          "height": 52
        }
      },
      "source": [
        "#Given two lists [2,4,6,8] [4,8,12,16]\n",
        "# multiply x and y if y>x\n",
        " \n",
        "li = [2,4,6,8]\n",
        "l =[4,8,12,16]\n",
        "\n",
        "ans = [x*y for x in li for y in l if y>x]\n",
        "print(ans)\n",
        "\n",
        "\n",
        "ans = [(x,y) for x in range(10) if x%2==0 for y in range(x)]\n",
        "print(ans)"
      ],
      "execution_count": 2,
      "outputs": [
        {
          "output_type": "stream",
          "text": [
            "[8, 16, 24, 32, 32, 48, 64, 48, 72, 96, 96, 128]\n",
            "[(2, 0), (2, 1), (4, 0), (4, 1), (4, 2), (4, 3), (6, 0), (6, 1), (6, 2), (6, 3), (6, 4), (6, 5), (8, 0), (8, 1), (8, 2), (8, 3), (8, 4), (8, 5), (8, 6), (8, 7)]\n"
          ],
          "name": "stdout"
        }
      ]
    },
    {
      "cell_type": "code",
      "metadata": {
        "id": "gbH7JJ0bAZfK",
        "colab_type": "code",
        "outputId": "a15ea436-7a4b-49fd-fe11-2c678053001e",
        "colab": {
          "base_uri": "https://localhost:8080/",
          "height": 72
        }
      },
      "source": [
        "#List containing lists\n",
        "#Factors of every number\n",
        "\n",
        "li = [[y for y in range(1,x+1) if x%y==0] for x in range(50)]\n",
        "print(li)\n",
        "\n",
        "for y in li:\n",
        "  y.reverse()\n",
        "  \n",
        "print(li)"
      ],
      "execution_count": 3,
      "outputs": [
        {
          "output_type": "stream",
          "text": [
            "[[], [1], [1, 2], [1, 3], [1, 2, 4], [1, 5], [1, 2, 3, 6], [1, 7], [1, 2, 4, 8], [1, 3, 9], [1, 2, 5, 10], [1, 11], [1, 2, 3, 4, 6, 12], [1, 13], [1, 2, 7, 14], [1, 3, 5, 15], [1, 2, 4, 8, 16], [1, 17], [1, 2, 3, 6, 9, 18], [1, 19], [1, 2, 4, 5, 10, 20], [1, 3, 7, 21], [1, 2, 11, 22], [1, 23], [1, 2, 3, 4, 6, 8, 12, 24], [1, 5, 25], [1, 2, 13, 26], [1, 3, 9, 27], [1, 2, 4, 7, 14, 28], [1, 29], [1, 2, 3, 5, 6, 10, 15, 30], [1, 31], [1, 2, 4, 8, 16, 32], [1, 3, 11, 33], [1, 2, 17, 34], [1, 5, 7, 35], [1, 2, 3, 4, 6, 9, 12, 18, 36], [1, 37], [1, 2, 19, 38], [1, 3, 13, 39], [1, 2, 4, 5, 8, 10, 20, 40], [1, 41], [1, 2, 3, 6, 7, 14, 21, 42], [1, 43], [1, 2, 4, 11, 22, 44], [1, 3, 5, 9, 15, 45], [1, 2, 23, 46], [1, 47], [1, 2, 3, 4, 6, 8, 12, 16, 24, 48], [1, 7, 49]]\n",
            "[[], [1], [2, 1], [3, 1], [4, 2, 1], [5, 1], [6, 3, 2, 1], [7, 1], [8, 4, 2, 1], [9, 3, 1], [10, 5, 2, 1], [11, 1], [12, 6, 4, 3, 2, 1], [13, 1], [14, 7, 2, 1], [15, 5, 3, 1], [16, 8, 4, 2, 1], [17, 1], [18, 9, 6, 3, 2, 1], [19, 1], [20, 10, 5, 4, 2, 1], [21, 7, 3, 1], [22, 11, 2, 1], [23, 1], [24, 12, 8, 6, 4, 3, 2, 1], [25, 5, 1], [26, 13, 2, 1], [27, 9, 3, 1], [28, 14, 7, 4, 2, 1], [29, 1], [30, 15, 10, 6, 5, 3, 2, 1], [31, 1], [32, 16, 8, 4, 2, 1], [33, 11, 3, 1], [34, 17, 2, 1], [35, 7, 5, 1], [36, 18, 12, 9, 6, 4, 3, 2, 1], [37, 1], [38, 19, 2, 1], [39, 13, 3, 1], [40, 20, 10, 8, 5, 4, 2, 1], [41, 1], [42, 21, 14, 7, 6, 3, 2, 1], [43, 1], [44, 22, 11, 4, 2, 1], [45, 15, 9, 5, 3, 1], [46, 23, 2, 1], [47, 1], [48, 24, 16, 12, 8, 6, 4, 3, 2, 1], [49, 7, 1]]\n"
          ],
          "name": "stdout"
        }
      ]
    }
  ]
}