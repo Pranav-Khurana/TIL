{
  "nbformat": 4,
  "nbformat_minor": 0,
  "metadata": {
    "colab": {
      "name": "Dictionaries.ipynb",
      "version": "0.3.2",
      "provenance": []
    },
    "kernelspec": {
      "name": "python3",
      "display_name": "Python 3"
    }
  },
  "cells": [
    {
      "cell_type": "code",
      "metadata": {
        "id": "jcaItn7dGHr_",
        "colab_type": "code",
        "outputId": "d606d7c7-5f8b-405d-f8f5-63a0ad2b0223",
        "colab": {
          "base_uri": "https://localhost:8080/",
          "height": 34
        }
      },
      "source": [
        "dict = {}\n",
        "type(dict)"
      ],
      "execution_count": 0,
      "outputs": [
        {
          "output_type": "execute_result",
          "data": {
            "text/plain": [
              "dict"
            ]
          },
          "metadata": {
            "tags": []
          },
          "execution_count": 1
        }
      ]
    },
    {
      "cell_type": "code",
      "metadata": {
        "id": "0JKJe4hVZ6I3",
        "colab_type": "code",
        "outputId": "7d5f68e6-b44d-403d-aef2-bb4c6f25b856",
        "colab": {
          "base_uri": "https://localhost:8080/",
          "height": 104
        }
      },
      "source": [
        "%time dic ={'m1': 5,'m2': 3.5,'m3': 2.5,'m4': 3}\n",
        "\n",
        "%time dict(m1='iron man',m2='infinty war',m3='raganrok')"
      ],
      "execution_count": 0,
      "outputs": [
        {
          "output_type": "stream",
          "text": [
            "CPU times: user 4 µs, sys: 0 ns, total: 4 µs\n",
            "Wall time: 9.06 µs\n",
            "CPU times: user 5 µs, sys: 1 µs, total: 6 µs\n",
            "Wall time: 9.54 µs\n"
          ],
          "name": "stdout"
        },
        {
          "output_type": "execute_result",
          "data": {
            "text/plain": [
              "{'m1': 'iron man', 'm2': 'infinty war', 'm3': 'raganrok'}"
            ]
          },
          "metadata": {
            "tags": []
          },
          "execution_count": 1
        }
      ]
    },
    {
      "cell_type": "code",
      "metadata": {
        "id": "wIbuImCFay3n",
        "colab_type": "code",
        "outputId": "8da24c9c-c7a5-4163-a5b4-75ed0f6eeb13",
        "colab": {
          "base_uri": "https://localhost:8080/",
          "height": 34
        }
      },
      "source": [
        "movies = ['ABCD','ABCD2']\n",
        "actors = ['Canish', 'bcanish']\n",
        "abc = {mov:actors for mov in movies }#for act in actors}\n",
        "abc"
      ],
      "execution_count": 0,
      "outputs": [
        {
          "output_type": "execute_result",
          "data": {
            "text/plain": [
              "{'ABCD': ['Canish', 'bcanish'], 'ABCD2': ['Canish', 'bcanish']}"
            ]
          },
          "metadata": {
            "tags": []
          },
          "execution_count": 7
        }
      ]
    },
    {
      "cell_type": "code",
      "metadata": {
        "id": "BcHrfKBTdctw",
        "colab_type": "code",
        "outputId": "a03cff32-297b-44da-e8a9-64ce21be2171",
        "colab": {
          "base_uri": "https://localhost:8080/",
          "height": 69
        }
      },
      "source": [
        "abc['gajni'] = \"ganish\"\n",
        "abc"
      ],
      "execution_count": 0,
      "outputs": [
        {
          "output_type": "execute_result",
          "data": {
            "text/plain": [
              "{'ABCD': ['Canish', 'bcanish'],\n",
              " 'ABCD2': ['Canish', 'bcanish'],\n",
              " 'gajni': 'ganish'}"
            ]
          },
          "metadata": {
            "tags": []
          },
          "execution_count": 11
        }
      ]
    },
    {
      "cell_type": "code",
      "metadata": {
        "id": "0ZZj4YWueRHb",
        "colab_type": "code",
        "outputId": "5aef6fbd-cf5c-4e58-e838-ed6cec24d6d2",
        "colab": {
          "base_uri": "https://localhost:8080/",
          "height": 69
        }
      },
      "source": [
        "abc['gajni'] = [\"ganish\",'ccanish']\n",
        "abc"
      ],
      "execution_count": 0,
      "outputs": [
        {
          "output_type": "execute_result",
          "data": {
            "text/plain": [
              "{'ABCD': ['Canish', 'bcanish', 'lanish', 'lanish', 'lanish'],\n",
              " 'ABCD2': ['Canish', 'bcanish', 'lanish', 'lanish', 'lanish'],\n",
              " 'gajni': ['ganish', 'ccanish']}"
            ]
          },
          "metadata": {
            "tags": []
          },
          "execution_count": 23
        }
      ]
    },
    {
      "cell_type": "code",
      "metadata": {
        "id": "s-B3XfitfaTy",
        "colab_type": "code",
        "outputId": "ee528ecb-dfde-44dd-e898-200c8c07b730",
        "colab": {
          "base_uri": "https://localhost:8080/",
          "height": 347
        }
      },
      "source": [
        "abc['ABCD'].append('lsh')\n",
        "abc"
      ],
      "execution_count": 0,
      "outputs": [
        {
          "output_type": "execute_result",
          "data": {
            "text/plain": [
              "{'ABCD': ['Canish',\n",
              "  'bcanish',\n",
              "  'lanish',\n",
              "  'lanish',\n",
              "  'lanish',\n",
              "  'lanish',\n",
              "  'lanish',\n",
              "  'lanish',\n",
              "  'lsh'],\n",
              " 'ABCD2': ['Canish',\n",
              "  'bcanish',\n",
              "  'lanish',\n",
              "  'lanish',\n",
              "  'lanish',\n",
              "  'lanish',\n",
              "  'lanish',\n",
              "  'lanish',\n",
              "  'lsh'],\n",
              " 'gajni': ['ganish', 'ccanish']}"
            ]
          },
          "metadata": {
            "tags": []
          },
          "execution_count": 27
        }
      ]
    },
    {
      "cell_type": "code",
      "metadata": {
        "id": "-XhuwYmXfu_u",
        "colab_type": "code",
        "outputId": "294d902a-0d2b-4158-c2a9-5b0be2fbd2fb",
        "colab": {
          "base_uri": "https://localhost:8080/",
          "height": 121
        }
      },
      "source": [
        "for k,v in abc.items():\n",
        "  print(k,\":\",v)\n",
        "  actors.pop()\n",
        "\n",
        "abc"
      ],
      "execution_count": 0,
      "outputs": [
        {
          "output_type": "stream",
          "text": [
            "ABCD : ['Canish', 'bcanish', 'lanish', 'lanish', 'lanish', 'lanish', 'lanish', 'lanish']\n",
            "ABCD2 : ['Canish', 'bcanish', 'lanish', 'lanish', 'lanish', 'lanish', 'lanish']\n",
            "gajni : ['ganish', 'ccanish']\n"
          ],
          "name": "stdout"
        },
        {
          "output_type": "execute_result",
          "data": {
            "text/plain": [
              "{'ABCD': ['Canish', 'bcanish', 'lanish', 'lanish', 'lanish'],\n",
              " 'ABCD2': ['Canish', 'bcanish', 'lanish', 'lanish', 'lanish'],\n",
              " 'gajni': ['ganish', 'ccanish']}"
            ]
          },
          "metadata": {
            "tags": []
          },
          "execution_count": 32
        }
      ]
    },
    {
      "cell_type": "code",
      "metadata": {
        "id": "GdrHMI-HhPey",
        "colab_type": "code",
        "colab": {}
      },
      "source": [
        ""
      ],
      "execution_count": 0,
      "outputs": []
    }
  ]
}