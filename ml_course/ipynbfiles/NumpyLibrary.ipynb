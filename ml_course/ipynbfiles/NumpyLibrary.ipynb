{
  "nbformat": 4,
  "nbformat_minor": 0,
  "metadata": {
    "colab": {
      "name": "NumpyLibrary.ipynb",
      "version": "0.3.2",
      "provenance": [],
      "collapsed_sections": []
    },
    "kernelspec": {
      "name": "python3",
      "display_name": "Python 3"
    }
  },
  "cells": [
    {
      "cell_type": "code",
      "metadata": {
        "id": "EYY2wm7QNXDg",
        "colab_type": "code",
        "colab": {}
      },
      "source": [
        "'''\n",
        "Numpy Library \n",
        "\n",
        "'''\n",
        "import numpy as N"
      ],
      "execution_count": 0,
      "outputs": []
    },
    {
      "cell_type": "code",
      "metadata": {
        "id": "0uwBnw_7Nuwa",
        "colab_type": "code",
        "colab": {
          "base_uri": "https://localhost:8080/",
          "height": 1000
        },
        "outputId": "f1e6791f-ee37-4c6e-f0bb-590a0697355a"
      },
      "source": [
        "'''\n",
        "Array Method in numpy \n",
        "\n",
        "array() -> used to create multi dimensional arrays\n",
        "\n",
        "'''\n",
        "help(N.array)"
      ],
      "execution_count": 2,
      "outputs": [
        {
          "output_type": "stream",
          "text": [
            "Help on built-in function array in module numpy:\n",
            "\n",
            "array(...)\n",
            "    array(object, dtype=None, copy=True, order='K', subok=False, ndmin=0)\n",
            "    \n",
            "    Create an array.\n",
            "    \n",
            "    Parameters\n",
            "    ----------\n",
            "    object : array_like\n",
            "        An array, any object exposing the array interface, an object whose\n",
            "        __array__ method returns an array, or any (nested) sequence.\n",
            "    dtype : data-type, optional\n",
            "        The desired data-type for the array.  If not given, then the type will\n",
            "        be determined as the minimum type required to hold the objects in the\n",
            "        sequence.  This argument can only be used to 'upcast' the array.  For\n",
            "        downcasting, use the .astype(t) method.\n",
            "    copy : bool, optional\n",
            "        If true (default), then the object is copied.  Otherwise, a copy will\n",
            "        only be made if __array__ returns a copy, if obj is a nested sequence,\n",
            "        or if a copy is needed to satisfy any of the other requirements\n",
            "        (`dtype`, `order`, etc.).\n",
            "    order : {'K', 'A', 'C', 'F'}, optional\n",
            "        Specify the memory layout of the array. If object is not an array, the\n",
            "        newly created array will be in C order (row major) unless 'F' is\n",
            "        specified, in which case it will be in Fortran order (column major).\n",
            "        If object is an array the following holds.\n",
            "    \n",
            "        ===== ========= ===================================================\n",
            "        order  no copy                     copy=True\n",
            "        ===== ========= ===================================================\n",
            "        'K'   unchanged F & C order preserved, otherwise most similar order\n",
            "        'A'   unchanged F order if input is F and not C, otherwise C order\n",
            "        'C'   C order   C order\n",
            "        'F'   F order   F order\n",
            "        ===== ========= ===================================================\n",
            "    \n",
            "        When ``copy=False`` and a copy is made for other reasons, the result is\n",
            "        the same as if ``copy=True``, with some exceptions for `A`, see the\n",
            "        Notes section. The default order is 'K'.\n",
            "    subok : bool, optional\n",
            "        If True, then sub-classes will be passed-through, otherwise\n",
            "        the returned array will be forced to be a base-class array (default).\n",
            "    ndmin : int, optional\n",
            "        Specifies the minimum number of dimensions that the resulting\n",
            "        array should have.  Ones will be pre-pended to the shape as\n",
            "        needed to meet this requirement.\n",
            "    \n",
            "    Returns\n",
            "    -------\n",
            "    out : ndarray\n",
            "        An array object satisfying the specified requirements.\n",
            "    \n",
            "    See Also\n",
            "    --------\n",
            "    empty_like : Return an empty array with shape and type of input.\n",
            "    ones_like : Return an array of ones with shape and type of input.\n",
            "    zeros_like : Return an array of zeros with shape and type of input.\n",
            "    full_like : Return a new array with shape of input filled with value.\n",
            "    empty : Return a new uninitialized array.\n",
            "    ones : Return a new array setting values to one.\n",
            "    zeros : Return a new array setting values to zero.\n",
            "    full : Return a new array of given shape filled with value.\n",
            "    \n",
            "    \n",
            "    Notes\n",
            "    -----\n",
            "    When order is 'A' and `object` is an array in neither 'C' nor 'F' order,\n",
            "    and a copy is forced by a change in dtype, then the order of the result is\n",
            "    not necessarily 'C' as expected. This is likely a bug.\n",
            "    \n",
            "    Examples\n",
            "    --------\n",
            "    >>> np.array([1, 2, 3])\n",
            "    array([1, 2, 3])\n",
            "    \n",
            "    Upcasting:\n",
            "    \n",
            "    >>> np.array([1, 2, 3.0])\n",
            "    array([ 1.,  2.,  3.])\n",
            "    \n",
            "    More than one dimension:\n",
            "    \n",
            "    >>> np.array([[1, 2], [3, 4]])\n",
            "    array([[1, 2],\n",
            "           [3, 4]])\n",
            "    \n",
            "    Minimum dimensions 2:\n",
            "    \n",
            "    >>> np.array([1, 2, 3], ndmin=2)\n",
            "    array([[1, 2, 3]])\n",
            "    \n",
            "    Type provided:\n",
            "    \n",
            "    >>> np.array([1, 2, 3], dtype=complex)\n",
            "    array([ 1.+0.j,  2.+0.j,  3.+0.j])\n",
            "    \n",
            "    Data-type consisting of more than one element:\n",
            "    \n",
            "    >>> x = np.array([(1,2),(3,4)],dtype=[('a','<i4'),('b','<i4')])\n",
            "    >>> x['a']\n",
            "    array([1, 3])\n",
            "    \n",
            "    Creating an array from sub-classes:\n",
            "    \n",
            "    >>> np.array(np.mat('1 2; 3 4'))\n",
            "    array([[1, 2],\n",
            "           [3, 4]])\n",
            "    \n",
            "    >>> np.array(np.mat('1 2; 3 4'), subok=True)\n",
            "    matrix([[1, 2],\n",
            "            [3, 4]])\n",
            "\n"
          ],
          "name": "stdout"
        }
      ]
    },
    {
      "cell_type": "code",
      "metadata": {
        "id": "3JvhDaLqOP97",
        "colab_type": "code",
        "colab": {
          "base_uri": "https://localhost:8080/",
          "height": 86
        },
        "outputId": "6cf5cf50-ef1d-4e33-9b9a-e0cb3ee3e209"
      },
      "source": [
        "'''\n",
        "rank 1 array (1D Numpy array)\n",
        "'''\n",
        "\n",
        "ar = N.array([1,2,3,4,5])\n",
        "print(ar)\n",
        "print(type(ar))\n",
        "print(ar[2])\n",
        "print(ar[2:4])"
      ],
      "execution_count": 3,
      "outputs": [
        {
          "output_type": "stream",
          "text": [
            "[1 2 3 4 5]\n",
            "<class 'numpy.ndarray'>\n",
            "3\n",
            "[3 4]\n"
          ],
          "name": "stdout"
        }
      ]
    },
    {
      "cell_type": "code",
      "metadata": {
        "id": "wzta0dX5O_rz",
        "colab_type": "code",
        "colab": {
          "base_uri": "https://localhost:8080/",
          "height": 52
        },
        "outputId": "8ba9c8f8-a1ee-4f00-e70a-c6214491baaa"
      },
      "source": [
        "'''\n",
        "attributes and properties\n",
        "\n",
        "Shape \n",
        "   -> used to check dimension of array\n",
        "  \n",
        "dtype \n",
        "   -> used to know datatype of array\n",
        " \n",
        "'''\n",
        "print(ar.shape)\n",
        "print(ar.dtype)"
      ],
      "execution_count": 4,
      "outputs": [
        {
          "output_type": "stream",
          "text": [
            "(5,)\n",
            "int64\n"
          ],
          "name": "stdout"
        }
      ]
    },
    {
      "cell_type": "code",
      "metadata": {
        "id": "rLbVnzSdRnh1",
        "colab_type": "code",
        "colab": {
          "base_uri": "https://localhost:8080/",
          "height": 104
        },
        "outputId": "44396280-9c43-4cec-99e1-a6612e490ba9"
      },
      "source": [
        "'''\n",
        "rank 2 matrix\n",
        "'''\n",
        "\n",
        "mat = N.array([[1,2,3,4],[5,6,7,8],[9,10,11,12]])\n",
        "print(mat)\n",
        "print(mat.shape)\n",
        "print(mat.dtype)"
      ],
      "execution_count": 5,
      "outputs": [
        {
          "output_type": "stream",
          "text": [
            "[[ 1  2  3  4]\n",
            " [ 5  6  7  8]\n",
            " [ 9 10 11 12]]\n",
            "(3, 4)\n",
            "int64\n"
          ],
          "name": "stdout"
        }
      ]
    },
    {
      "cell_type": "code",
      "metadata": {
        "id": "oRyX_v5_SjHB",
        "colab_type": "code",
        "colab": {
          "base_uri": "https://localhost:8080/",
          "height": 225
        },
        "outputId": "343b63ee-72de-4f89-f376-b2756fa80b00"
      },
      "source": [
        "'''\n",
        "For with numpy arrays\n",
        "'''\n",
        "print(\"Without range method\")\n",
        "for i in ar:\n",
        "  print(i)\n",
        "  \n",
        "print(\"With range and len methods\")\n",
        "for i in range(len(ar)):\n",
        "  print(i,':',ar[i])"
      ],
      "execution_count": 6,
      "outputs": [
        {
          "output_type": "stream",
          "text": [
            "Without range method\n",
            "1\n",
            "2\n",
            "3\n",
            "4\n",
            "5\n",
            "With range and len methods\n",
            "0 : 1\n",
            "1 : 2\n",
            "2 : 3\n",
            "3 : 4\n",
            "4 : 5\n"
          ],
          "name": "stdout"
        }
      ]
    },
    {
      "cell_type": "code",
      "metadata": {
        "id": "2LdrjnLITPfO",
        "colab_type": "code",
        "colab": {
          "base_uri": "https://localhost:8080/",
          "height": 104
        },
        "outputId": "4d848660-7628-457f-f4a8-9928c8397391"
      },
      "source": [
        "'''\n",
        "Inbuild Method in Numpy\n",
        "\n",
        "1. zeros \n",
        "   -> used to fill array with zeros (float datatype)\n",
        "   \n",
        "2. ones\n",
        "   -> used to fill array with ones (float datatype)\n",
        "'''\n",
        "\n",
        "ar = N.zeros(5)\n",
        "print(\"One Dimensional Zeroes\",ar,sep='\\n')\n",
        "\n",
        "mat = N.ones((2,2))\n",
        "print(\"Two Dimensional Ones\",mat,sep='\\n')"
      ],
      "execution_count": 7,
      "outputs": [
        {
          "output_type": "stream",
          "text": [
            "One Dimensional Zeroes\n",
            "[0. 0. 0. 0. 0.]\n",
            "Two Dimensional Ones\n",
            "[[1. 1.]\n",
            " [1. 1.]]\n"
          ],
          "name": "stdout"
        }
      ]
    },
    {
      "cell_type": "code",
      "metadata": {
        "id": "Vu3QwQz2UurO",
        "colab_type": "code",
        "colab": {
          "base_uri": "https://localhost:8080/",
          "height": 86
        },
        "outputId": "e0ac2760-2f47-4291-a97b-9298f4018ff2"
      },
      "source": [
        "'''\n",
        "Inbuild Method in Numpy\n",
        "\n",
        "3. full\n",
        "   -> used to fill an array with constant value\n",
        "   -> syntax : full((dimension),constantvalue)\n",
        "\n",
        "'''\n",
        "\n",
        "ar = N.full(5,6)\n",
        "mat = N.full((3,3),'abc')\n",
        "\n",
        "print(ar)\n",
        "print(mat)"
      ],
      "execution_count": 8,
      "outputs": [
        {
          "output_type": "stream",
          "text": [
            "[6 6 6 6 6]\n",
            "[['abc' 'abc' 'abc']\n",
            " ['abc' 'abc' 'abc']\n",
            " ['abc' 'abc' 'abc']]\n"
          ],
          "name": "stdout"
        }
      ]
    },
    {
      "cell_type": "code",
      "metadata": {
        "id": "8BLDbPWjXWZF",
        "colab_type": "code",
        "colab": {
          "base_uri": "https://localhost:8080/",
          "height": 260
        },
        "outputId": "50d1a38d-cad3-4b0f-f7e0-e3a444717635"
      },
      "source": [
        "'''\n",
        "Inbuild Method in Numpy\n",
        "\n",
        "4. identity\n",
        "   -> used to create an identity matrix\n",
        "\n",
        "5. astype\n",
        "   -> used to change datatype\n",
        "'''\n",
        "\n",
        "mat = N.identity(7)\n",
        "print(mat)\n",
        "\n",
        "ar = mat.astype(int)\n",
        "print(ar)"
      ],
      "execution_count": 9,
      "outputs": [
        {
          "output_type": "stream",
          "text": [
            "[[1. 0. 0. 0. 0. 0. 0.]\n",
            " [0. 1. 0. 0. 0. 0. 0.]\n",
            " [0. 0. 1. 0. 0. 0. 0.]\n",
            " [0. 0. 0. 1. 0. 0. 0.]\n",
            " [0. 0. 0. 0. 1. 0. 0.]\n",
            " [0. 0. 0. 0. 0. 1. 0.]\n",
            " [0. 0. 0. 0. 0. 0. 1.]]\n",
            "[[1 0 0 0 0 0 0]\n",
            " [0 1 0 0 0 0 0]\n",
            " [0 0 1 0 0 0 0]\n",
            " [0 0 0 1 0 0 0]\n",
            " [0 0 0 0 1 0 0]\n",
            " [0 0 0 0 0 1 0]\n",
            " [0 0 0 0 0 0 1]]\n"
          ],
          "name": "stdout"
        }
      ]
    },
    {
      "cell_type": "code",
      "metadata": {
        "id": "9hsDikmGbpvi",
        "colab_type": "code",
        "outputId": "28cbdfa0-410e-497a-d25f-b3223c90c241",
        "colab": {
          "base_uri": "https://localhost:8080/",
          "height": 156
        }
      },
      "source": [
        "'''\n",
        "Inbuild Method in Numpy\n",
        "\n",
        "6. arange\n",
        "   -> used to generate range of integer values similar to range\n",
        "   \n",
        "7. linspace\n",
        "   -> divides a group into evenly spaced intervals\n",
        "   -> by default 50 groups are created in given range\n",
        "   \n",
        "'''\n",
        "\n",
        "print(N.arange(10))\n",
        "print(N.arange(1,11))\n",
        "print(N.arange(2,50,2))\n",
        "print(N.arange((10),dtype='float'))\n",
        "\n",
        "print(N.linspace(1,50))\n",
        "print(N.linspace(1,100,num=5))"
      ],
      "execution_count": 10,
      "outputs": [
        {
          "output_type": "stream",
          "text": [
            "[0 1 2 3 4 5 6 7 8 9]\n",
            "[ 1  2  3  4  5  6  7  8  9 10]\n",
            "[ 2  4  6  8 10 12 14 16 18 20 22 24 26 28 30 32 34 36 38 40 42 44 46 48]\n",
            "[0. 1. 2. 3. 4. 5. 6. 7. 8. 9.]\n",
            "[ 1.  2.  3.  4.  5.  6.  7.  8.  9. 10. 11. 12. 13. 14. 15. 16. 17. 18.\n",
            " 19. 20. 21. 22. 23. 24. 25. 26. 27. 28. 29. 30. 31. 32. 33. 34. 35. 36.\n",
            " 37. 38. 39. 40. 41. 42. 43. 44. 45. 46. 47. 48. 49. 50.]\n",
            "[  1.    25.75  50.5   75.25 100.  ]\n"
          ],
          "name": "stdout"
        }
      ]
    },
    {
      "cell_type": "code",
      "metadata": {
        "id": "81c-286Hfc23",
        "colab_type": "code",
        "outputId": "e2f1009f-abfe-4308-c2b7-11682beac2f4",
        "colab": {
          "base_uri": "https://localhost:8080/",
          "height": 260
        }
      },
      "source": [
        "'''\n",
        "Inbuild Method in Numpy\n",
        "\n",
        "8. reshape\n",
        "   -> changes the dimension of an array\n",
        "\n",
        "'''\n",
        "ar = N.array([1,2,3,4,5,6,7,8,9])\n",
        "print(ar.reshape(3,3))\n",
        "print(N.arange(1,28).reshape(3,3,3))"
      ],
      "execution_count": 11,
      "outputs": [
        {
          "output_type": "stream",
          "text": [
            "[[1 2 3]\n",
            " [4 5 6]\n",
            " [7 8 9]]\n",
            "[[[ 1  2  3]\n",
            "  [ 4  5  6]\n",
            "  [ 7  8  9]]\n",
            "\n",
            " [[10 11 12]\n",
            "  [13 14 15]\n",
            "  [16 17 18]]\n",
            "\n",
            " [[19 20 21]\n",
            "  [22 23 24]\n",
            "  [25 26 27]]]\n"
          ],
          "name": "stdout"
        }
      ]
    },
    {
      "cell_type": "code",
      "metadata": {
        "id": "yE7zUJxPV1Yt",
        "colab_type": "code",
        "colab": {
          "base_uri": "https://localhost:8080/",
          "height": 86
        },
        "outputId": "24fef93b-b63e-40fc-b1e0-b1caa10fafca"
      },
      "source": [
        "'''\n",
        "Inbuild Method in random class generally used with numpy\n",
        "\n",
        "1. random\n",
        "   -> used to fill an array with random values between 0 and 1\n",
        "   \n",
        "2. randint\n",
        "   -> used to fill random within a given range\n",
        "   \n",
        "'''\n",
        "\n",
        "ar = N.random.random()\n",
        "mat = N.random.randint(1,101, size=(3,3))\n",
        "\n",
        "print(ar)\n",
        "print(mat)"
      ],
      "execution_count": 12,
      "outputs": [
        {
          "output_type": "stream",
          "text": [
            "0.1155325687892399\n",
            "[[91 67  5]\n",
            " [97 38 73]\n",
            " [92 59 15]]\n"
          ],
          "name": "stdout"
        }
      ]
    },
    {
      "cell_type": "code",
      "metadata": {
        "colab_type": "code",
        "id": "HXUlKttGbe8X",
        "colab": {
          "base_uri": "https://localhost:8080/",
          "height": 86
        },
        "outputId": "9797409f-1384-4659-9129-253d9b1533ee"
      },
      "source": [
        "'''\n",
        "Datatypes in Numpy 1\n",
        "\n",
        "'''\n",
        "\n",
        "iar = N.array([1,2,3,4,5])\n",
        "far = N.array([1.,2.,3.,4.,5.])\n",
        "car = N.array(['a','b','c','d','e'])\n",
        "sar = N.array(['abc','bcd','cde'])\n",
        "\n",
        "print(iar.dtype)\n",
        "print(far.dtype)\n",
        "print(car.dtype)\n",
        "print(sar.dtype)"
      ],
      "execution_count": 13,
      "outputs": [
        {
          "output_type": "stream",
          "text": [
            "int64\n",
            "float64\n",
            "<U1\n",
            "<U3\n"
          ],
          "name": "stdout"
        }
      ]
    },
    {
      "cell_type": "code",
      "metadata": {
        "id": "z5fcilNZZv8U",
        "colab_type": "code",
        "colab": {
          "base_uri": "https://localhost:8080/",
          "height": 139
        },
        "outputId": "31674fea-0482-4949-9daa-75a575a3c99b"
      },
      "source": [
        "'''\n",
        "Datatypes in Numpy 2\n",
        "'''\n",
        "\n",
        "iar = N.array([1,2,3,4,5],dtype='float32')\n",
        "far = N.array([10.,20.,30.,40.,50.],dtype=N.int)\n",
        "ar = N.zeros((2,2),dtype=int)\n",
        "\n",
        "print(iar.dtype)\n",
        "print(iar)\n",
        "\n",
        "print(far.dtype)\n",
        "print(far)\n",
        "\n",
        "print(ar.dtype)\n",
        "print(ar)"
      ],
      "execution_count": 14,
      "outputs": [
        {
          "output_type": "stream",
          "text": [
            "float32\n",
            "[1. 2. 3. 4. 5.]\n",
            "int64\n",
            "[10 20 30 40 50]\n",
            "int64\n",
            "[[0 0]\n",
            " [0 0]]\n"
          ],
          "name": "stdout"
        }
      ]
    },
    {
      "cell_type": "code",
      "metadata": {
        "id": "P8UvkuNdaJp7",
        "colab_type": "code",
        "outputId": "9846e705-2ca5-41fd-c7c2-4eefa5511429",
        "colab": {
          "base_uri": "https://localhost:8080/",
          "height": 156
        }
      },
      "source": [
        "'''\n",
        "Numpy Broadcasting\n",
        "\n",
        "rules to be performed while performing operations on arrays\n",
        "1. either arrays should be of same size\n",
        "2. or one array must be of size 1\n",
        "\n",
        "'''\n",
        "\n",
        "a = N.array([1,2,3])\n",
        "b = N.array([2,2,2])\n",
        "c = N.array([3])\n",
        "\n",
        "print(a*b)\n",
        "print(a*c)\n",
        "\n",
        "m1 = N.array([[1,2],[3,4]])\n",
        "m2 = N.array([[2,2],[2,2]])\n",
        "\n",
        "print(m1+m2)\n",
        "print(m2-c)\n",
        "\n",
        "m3 = N.array([10,100])\n",
        "\n",
        "print(m1*m3)"
      ],
      "execution_count": 15,
      "outputs": [
        {
          "output_type": "stream",
          "text": [
            "[2 4 6]\n",
            "[3 6 9]\n",
            "[[3 4]\n",
            " [5 6]]\n",
            "[[-1 -1]\n",
            " [-1 -1]]\n",
            "[[ 10 200]\n",
            " [ 30 400]]\n"
          ],
          "name": "stdout"
        }
      ]
    }
  ]
}