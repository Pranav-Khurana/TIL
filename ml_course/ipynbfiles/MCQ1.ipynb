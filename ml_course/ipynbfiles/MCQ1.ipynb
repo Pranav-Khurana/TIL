{
 "cells": [
  {
   "cell_type": "markdown",
   "metadata": {},
   "source": [
    "# Microsoft Python Exam Preparation\n",
    "\n",
    "### MCQ Set1: 20 Questions\n",
    "---"
   ]
  },
  {
   "cell_type": "markdown",
   "metadata": {},
   "source": [
    "**Q1 What Will Be The Output Of The Following Code Snippet?**\n",
    "\n",
    "```python\n",
    "a=[1,2,3,4,5,6,7,8,9]\n",
    "print(a[::2])\n",
    "```\n",
    "\n",
    "1. [1,2] \n",
    "2. [8,9]\n",
    "3. [1,3,5,7,9]\n",
    "4. [1,2,3] \n",
    "\n",
    ">Answer: *3. [1,3,5,7,9]*"
   ]
  },
  {
   "cell_type": "code",
   "execution_count": 1,
   "metadata": {},
   "outputs": [
    {
     "name": "stdout",
     "output_type": "stream",
     "text": [
      "[1, 3, 5, 7, 9]\n"
     ]
    }
   ],
   "source": [
    "a=[1,2,3,4,5,6,7,8,9]\n",
    "print(a[::2])"
   ]
  },
  {
   "cell_type": "markdown",
   "metadata": {},
   "source": [
    "---\n",
    "**Q2 Which of the following statements create a dictionary?**\n",
    "1. d = {}\n",
    "2. d = {'john':40, 'peter':45}\n",
    "3. d = {40:'john', 45:'peter'}\n",
    "4. All of the mentioned\n",
    "\n",
    ">Answer: *4. All of the mentioned*"
   ]
  },
  {
   "cell_type": "code",
   "execution_count": 2,
   "metadata": {},
   "outputs": [
    {
     "name": "stdout",
     "output_type": "stream",
     "text": [
      "<class 'dict'> <class 'dict'> <class 'dict'>\n"
     ]
    }
   ],
   "source": [
    "d1 = {}\n",
    "d2 = {\"john\":40, \"peter\":45}\n",
    "d3 = {40:\"john\", 45:\"peter\"}\n",
    "print(type(d1),type(d2),type(d3))"
   ]
  },
  {
   "cell_type": "markdown",
   "metadata": {},
   "source": [
    "---\n",
    "**Q3  Read the code shown below carefully and pick out the keys?**\n",
    "```python\n",
    "d = {\"john\":40, \"peter\":45}```\n",
    "\n",
    "1. “john”, 40, 45, and “peter”\n",
    "2. “john” and “peter”\n",
    "3. 40 and 45\n",
    "4. d = (40:”john”, 45:”peter”)\n",
    "\n",
    ">Answer: *2. “john” and “peter”*"
   ]
  },
  {
   "cell_type": "code",
   "execution_count": 3,
   "metadata": {},
   "outputs": [
    {
     "data": {
      "text/plain": [
       "dict_keys(['john', 'peter'])"
      ]
     },
     "execution_count": 3,
     "metadata": {},
     "output_type": "execute_result"
    }
   ],
   "source": [
    "d = {\"john\":40, \"peter\":45}\n",
    "d.keys()"
   ]
  },
  {
   "cell_type": "markdown",
   "metadata": {},
   "source": [
    "---\n",
    "**Q4 What Will Be The Output Of The Following Code Snippet?**\n",
    "```python\n",
    "a=[1,2,3,4,5]\n",
    "print(a[3:0:-1])```\n",
    "\n",
    "1. Syntax error\n",
    "2. [4, 3, 2]\n",
    "3. [4, 3]\n",
    "4. [4, 3, 2, 1]\n",
    "\n",
    ">Answer: *2. [4,3,2]*"
   ]
  },
  {
   "cell_type": "code",
   "execution_count": 4,
   "metadata": {},
   "outputs": [
    {
     "name": "stdout",
     "output_type": "stream",
     "text": [
      "[4, 3, 2]\n"
     ]
    }
   ],
   "source": [
    "a=[1,2,3,4,5]\n",
    "print(a[3:0:-1])"
   ]
  },
  {
   "cell_type": "markdown",
   "metadata": {},
   "source": [
    "---\n",
    "**Q5 What Will Be TheOutput Of The Following Code Snippet?**\n",
    "```python \n",
    "init_tuple_a = 'a', 'b'\n",
    "init_tuple_b = ('a', 'b')\n",
    "print (init_tuple_a == init_tuple_b)```\n",
    "\n",
    "1. 0\n",
    "2. 1\n",
    "3. False\n",
    "4. True\n",
    "\n",
    ">Answer: *4. True*"
   ]
  },
  {
   "cell_type": "code",
   "execution_count": 5,
   "metadata": {},
   "outputs": [
    {
     "name": "stdout",
     "output_type": "stream",
     "text": [
      "True\n"
     ]
    }
   ],
   "source": [
    "init_tuple_a = 'a', 'b'\n",
    "init_tuple_b = ('a', 'b')\n",
    "print (init_tuple_a == init_tuple_b)"
   ]
  },
  {
   "cell_type": "markdown",
   "metadata": {},
   "source": [
    "---\n",
    "**Q6 What Will Be The Output Of The Following Code Snippet?**\n",
    "```python\n",
    "init_tuple_a = '1', '2'\n",
    "init_tuple_b = ('3', '4')\n",
    "print (init_tuple_a + init_tuple_b)```\n",
    "1. (1, 2, 3, 4)\n",
    "2. (‘1’, ‘2’, ‘3’, ‘4’)\n",
    "3. [‘1’, ‘2’, ‘3’, ‘4’]\n",
    "4. None\n",
    "\n",
    ">Answer: *2. ('1','2','3','4')*"
   ]
  },
  {
   "cell_type": "code",
   "execution_count": 6,
   "metadata": {},
   "outputs": [
    {
     "name": "stdout",
     "output_type": "stream",
     "text": [
      "('1', '2', '3', '4')\n"
     ]
    }
   ],
   "source": [
    "init_tuple_a = '1', '2'\n",
    "init_tuple_b = ('3', '4')\n",
    "print (init_tuple_a + init_tuple_b)"
   ]
  },
  {
   "cell_type": "markdown",
   "metadata": {},
   "source": [
    "---\n",
    "**Q7 What Will Be The Output Of The Following Code Snippet?**\n",
    "```python\n",
    "init_tuple_a = 1, 2\n",
    "init_tuple_b = (3, 4)\n",
    "[print(sum(x)) for x in [init_tuple_a + init_tuple_b]]```\n",
    "1. Nothing gets printed.\n",
    "2. 4\n",
    "3. 10\n",
    "4. TypeError: unsupported operand type\n",
    "\n",
    ">Answer: *3. 10*"
   ]
  },
  {
   "cell_type": "code",
   "execution_count": 7,
   "metadata": {},
   "outputs": [
    {
     "name": "stdout",
     "output_type": "stream",
     "text": [
      "10\n"
     ]
    },
    {
     "data": {
      "text/plain": [
       "[None]"
      ]
     },
     "execution_count": 7,
     "metadata": {},
     "output_type": "execute_result"
    }
   ],
   "source": [
    "init_tuple_a = 1, 2\n",
    "init_tuple_b = (3, 4)\n",
    "[print(sum(x)) for x in [init_tuple_a + init_tuple_b]]"
   ]
  },
  {
   "cell_type": "markdown",
   "metadata": {},
   "source": [
    "---\n",
    "**Q8 What will be the output?**\n",
    "```python\n",
    "d = {\"john\":40, \"peter\":45}\n",
    "print(list(d.keys()))```\n",
    "1. [“john”, “peter”]\n",
    "2. [“john”:40, “peter”:45]\n",
    "3. (“john”, “peter”)\n",
    "4. (“john”:40, “peter”:45)\n",
    ">Answer:*1. [“john”, “peter”]*"
   ]
  },
  {
   "cell_type": "code",
   "execution_count": 8,
   "metadata": {},
   "outputs": [
    {
     "name": "stdout",
     "output_type": "stream",
     "text": [
      "['john', 'peter']\n"
     ]
    }
   ],
   "source": [
    "d = {\"john\":40, \"peter\":45}\n",
    "print(list(d.keys()))"
   ]
  },
  {
   "cell_type": "markdown",
   "metadata": {},
   "source": [
    "---\n",
    "**Q9 You have a list which contains ten elements. Which of the following uses of range() would produce a list of the indexes in the list?**\n",
    "1. range(1,10)\n",
    "2. range(10)\n",
    "3. range(0,9)\n",
    "4. range(1,9)\n",
    "\n",
    ">Answer: *2. range(10)*"
   ]
  },
  {
   "cell_type": "code",
   "execution_count": 9,
   "metadata": {},
   "outputs": [
    {
     "name": "stdout",
     "output_type": "stream",
     "text": [
      "0;1;2;3;4;5;6;7;8;9;"
     ]
    }
   ],
   "source": [
    "for i in range(10):\n",
    "    print(i,end=';')"
   ]
  },
  {
   "cell_type": "markdown",
   "metadata": {},
   "source": [
    "---\n",
    "**Q10 What is the output of the following?**\n",
    "```python \n",
    "i = 2\n",
    "while True:\n",
    "    if i%3 == 0:\n",
    "        break\n",
    "    print(i)\n",
    "    i += 2```\n",
    "\n",
    "1. 2 4 6 8 10 \n",
    "2. 2 4 \n",
    "3. 2 3\n",
    "4. error\n",
    "\n",
    ">Answer: *2. 2 4*"
   ]
  },
  {
   "cell_type": "code",
   "execution_count": 10,
   "metadata": {},
   "outputs": [
    {
     "name": "stdout",
     "output_type": "stream",
     "text": [
      "2\n",
      "4\n"
     ]
    }
   ],
   "source": [
    "i = 2\n",
    "while True:\n",
    "    if i%3 == 0:\n",
    "        break\n",
    "    print(i)\n",
    "    i += 2"
   ]
  },
  {
   "cell_type": "markdown",
   "metadata": {},
   "source": [
    "---\n",
    "**Q11 What is the output of the following?**\n",
    "```python\n",
    "x = \"abcdef\"\n",
    "i = \"i\"\n",
    "while i in x:\n",
    "    print(i, end=\" \")```\n",
    "    \n",
    "1. no output \n",
    "2. i i i i i i ... \n",
    "3. a b c d e f \n",
    "4. abcdef\n",
    "\n",
    ">Answer: *1. no output*"
   ]
  },
  {
   "cell_type": "code",
   "execution_count": 11,
   "metadata": {},
   "outputs": [],
   "source": [
    "x = \"abcdef\"\n",
    "i = \"i\"\n",
    "while i in x:\n",
    "    print(i, end=\" \")"
   ]
  },
  {
   "cell_type": "markdown",
   "metadata": {},
   "source": [
    "---\n",
    "**Q12 What is the output of the following?**\n",
    "```python\n",
    "x = 'abcd'\n",
    "for i in x:\n",
    "    print(i.upper())```\n",
    "1. a b c d \n",
    "2. A B C D \n",
    "3. a B C D \n",
    "4. error\n",
    "\n",
    ">Answer: *2. A B C D*"
   ]
  },
  {
   "cell_type": "code",
   "execution_count": 12,
   "metadata": {},
   "outputs": [
    {
     "name": "stdout",
     "output_type": "stream",
     "text": [
      "A\n",
      "B\n",
      "C\n",
      "D\n"
     ]
    }
   ],
   "source": [
    "x = 'abcd'\n",
    "for i in x:\n",
    "    print(i.upper())"
   ]
  },
  {
   "cell_type": "markdown",
   "metadata": {},
   "source": [
    "---\n",
    "**Q13 What is the output of the following code?**\n",
    "```python\n",
    "nums = set([1,1,2,3,3,3,4,4])\n",
    "print(len(nums))```\n",
    "1. 7\n",
    "2. Error, invalid syntax for formation of set\n",
    "3. 4\n",
    "4. 8\n",
    "\n",
    ">Answer: *3. 4*"
   ]
  },
  {
   "cell_type": "code",
   "execution_count": 13,
   "metadata": {},
   "outputs": [
    {
     "name": "stdout",
     "output_type": "stream",
     "text": [
      "4\n"
     ]
    }
   ],
   "source": [
    "nums = set([1,1,2,3,3,3,4,4])\n",
    "print(len(nums))"
   ]
  },
  {
   "cell_type": "markdown",
   "metadata": {},
   "source": [
    "---\n",
    "**Q14 Which of the following statements is used to create an empty set?**\n",
    "1. { }\n",
    "2. set()\n",
    "3. [ ]\n",
    "4. ( )\n",
    "\n",
    ">Answer: *2. set()*"
   ]
  },
  {
   "cell_type": "code",
   "execution_count": 14,
   "metadata": {},
   "outputs": [
    {
     "name": "stdout",
     "output_type": "stream",
     "text": [
      "<class 'dict'> <class 'list'> <class 'tuple'> <class 'set'>\n"
     ]
    }
   ],
   "source": [
    "x = {}\n",
    "y = []\n",
    "z = ()\n",
    "m = set()\n",
    "print(type(x),type(y),type(z),type(m))"
   ]
  },
  {
   "cell_type": "markdown",
   "metadata": {},
   "source": [
    "---\n",
    "**Q15  Suppose t = (1, 2, 4, 3), which of the following is incorrect?**\n",
    "1. print(t[3])\n",
    "2. t[3] = 45\n",
    "3. print(max(t))\n",
    "4. print(len(t))\n",
    "\n",
    ">Answer: *2. t[3] = 45*"
   ]
  },
  {
   "cell_type": "code",
   "execution_count": 15,
   "metadata": {},
   "outputs": [
    {
     "ename": "TypeError",
     "evalue": "'tuple' object does not support item assignment",
     "output_type": "error",
     "traceback": [
      "\u001b[0;31m---------------------------------------------------------------------------\u001b[0m",
      "\u001b[0;31mTypeError\u001b[0m                                 Traceback (most recent call last)",
      "\u001b[0;32m<ipython-input-15-0e5b06b158a0>\u001b[0m in \u001b[0;36m<module>\u001b[0;34m\u001b[0m\n\u001b[1;32m      1\u001b[0m \u001b[0mt\u001b[0m \u001b[0;34m=\u001b[0m \u001b[0;34m(\u001b[0m\u001b[0;36m1\u001b[0m\u001b[0;34m,\u001b[0m \u001b[0;36m2\u001b[0m\u001b[0;34m,\u001b[0m \u001b[0;36m4\u001b[0m\u001b[0;34m,\u001b[0m \u001b[0;36m3\u001b[0m\u001b[0;34m)\u001b[0m\u001b[0;34m\u001b[0m\u001b[0;34m\u001b[0m\u001b[0m\n\u001b[0;32m----> 2\u001b[0;31m \u001b[0mt\u001b[0m\u001b[0;34m[\u001b[0m\u001b[0;36m3\u001b[0m\u001b[0;34m]\u001b[0m\u001b[0;34m=\u001b[0m\u001b[0;36m9\u001b[0m\u001b[0;34m\u001b[0m\u001b[0;34m\u001b[0m\u001b[0m\n\u001b[0m",
      "\u001b[0;31mTypeError\u001b[0m: 'tuple' object does not support item assignment"
     ]
    }
   ],
   "source": [
    "t = (1, 2, 4, 3)\n",
    "t[3]=9"
   ]
  },
  {
   "cell_type": "markdown",
   "metadata": {},
   "source": [
    "---\n",
    "**Q16 What does the following code print to the console?**\n",
    "```python\n",
    "if False:\n",
    "    print(\"Nissan\")\n",
    "elif True:\n",
    "    print(\"Ford\")\n",
    "elif True:\n",
    "    print(\"BMW\")\n",
    "else:\n",
    "    print(\"Audi\")```\n",
    "    \n",
    "1. Ford\n",
    "2. Ford BMW\n",
    "3. BMW\n",
    "4. None Of The Above\n",
    "\n",
    ">Answer: *1. Ford*\n",
    "    "
   ]
  },
  {
   "cell_type": "code",
   "execution_count": 16,
   "metadata": {},
   "outputs": [
    {
     "name": "stdout",
     "output_type": "stream",
     "text": [
      "Ford\n"
     ]
    }
   ],
   "source": [
    "if False:\n",
    "    print(\"Nissan\")\n",
    "elif True:\n",
    "    print(\"Ford\")\n",
    "elif True:\n",
    "    print(\"BMW\")\n",
    "else:\n",
    "    print(\"Audi\")"
   ]
  },
  {
   "cell_type": "markdown",
   "metadata": {},
   "source": [
    "---\n",
    "**Q17 Suppose list1 is [1, 3, 2], What is list1 * 2 ?**\n",
    "1. [2, 6, 4] \n",
    "2. [1, 3, 2, 1, 3] \n",
    "3. [1, 3, 2, 1, 3, 2] \n",
    "4. [1, 3, 2, 3, 2, 1]\n",
    "\n",
    ">Answer: *3. [1, 3, 2, 1, 3, 2]*"
   ]
  },
  {
   "cell_type": "code",
   "execution_count": 17,
   "metadata": {},
   "outputs": [
    {
     "data": {
      "text/plain": [
       "[1, 3, 2, 1, 3, 2]"
      ]
     },
     "execution_count": 17,
     "metadata": {},
     "output_type": "execute_result"
    }
   ],
   "source": [
    "list1 = [1,3,2]\n",
    "list1*2"
   ]
  },
  {
   "cell_type": "markdown",
   "metadata": {},
   "source": [
    "---\n",
    "**Q18 What is the output when we execute list(“hello”)?**\n",
    "1. [‘h’, ‘e’, ‘l’, ‘l’, ‘o’]\n",
    "2. [‘hello’]\n",
    "3. [‘llo’]\n",
    "4. [‘olleh’]\n",
    "\n",
    ">Answer: *1. [‘h’, ‘e’, ‘l’, ‘l’, ‘o’]*"
   ]
  },
  {
   "cell_type": "code",
   "execution_count": 18,
   "metadata": {},
   "outputs": [
    {
     "data": {
      "text/plain": [
       "['h', 'e', 'l', 'l', 'o']"
      ]
     },
     "execution_count": 18,
     "metadata": {},
     "output_type": "execute_result"
    }
   ],
   "source": [
    "list('hello')"
   ]
  },
  {
   "cell_type": "markdown",
   "metadata": {},
   "source": [
    "---\n",
    "**Q19 Suppose list1 is [2, 33, 222, 14, 25], What is list1[:-1] ?**\n",
    "1. [2, 33, 222, 14]\n",
    "2. Error\n",
    "3. 25\n",
    "4. [25, 14, 222, 33, 2]\n",
    "\n",
    ">Answer: *1. [2, 33, 222, 14]*"
   ]
  },
  {
   "cell_type": "code",
   "execution_count": 19,
   "metadata": {},
   "outputs": [
    {
     "data": {
      "text/plain": [
       "[2, 33, 222, 14]"
      ]
     },
     "execution_count": 19,
     "metadata": {},
     "output_type": "execute_result"
    }
   ],
   "source": [
    "list1 = [2, 33, 222, 14, 25]\n",
    "list1[:-1]"
   ]
  },
  {
   "cell_type": "markdown",
   "metadata": {},
   "source": [
    "---\n",
    "**Q-20 Suppose list1 is [4, 2, 2, 4, 5, 2, 1, 0], Which of the following is correct syntax for slicing operation ?**\n",
    "1. print(list1[0])\n",
    "2. print(list1[:2])\n",
    "3. print(list1[:-2])\n",
    "4. all of the mentioned\n",
    ">Answer: *4. all of the mentioned*"
   ]
  },
  {
   "cell_type": "code",
   "execution_count": 20,
   "metadata": {},
   "outputs": [
    {
     "name": "stdout",
     "output_type": "stream",
     "text": [
      "4\n",
      "[4, 2]\n",
      "[4, 2, 2, 4, 5, 2]\n"
     ]
    }
   ],
   "source": [
    "list1 = [4, 2, 2, 4, 5, 2, 1, 0]\n",
    "print(list1[0])\n",
    "print(list1[:2])\n",
    "print(list1[:-2])"
   ]
  }
 ],
 "metadata": {
  "kernelspec": {
   "display_name": "Python 3",
   "language": "python",
   "name": "python3"
  },
  "language_info": {
   "codemirror_mode": {
    "name": "ipython",
    "version": 3
   },
   "file_extension": ".py",
   "mimetype": "text/x-python",
   "name": "python",
   "nbconvert_exporter": "python",
   "pygments_lexer": "ipython3",
   "version": "3.7.3"
  }
 },
 "nbformat": 4,
 "nbformat_minor": 2
}
