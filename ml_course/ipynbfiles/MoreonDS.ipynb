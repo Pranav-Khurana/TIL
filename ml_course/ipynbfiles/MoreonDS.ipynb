{
  "nbformat": 4,
  "nbformat_minor": 0,
  "metadata": {
    "colab": {
      "name": "MoreonDS.ipynb",
      "version": "0.3.2",
      "provenance": [],
      "collapsed_sections": []
    },
    "kernelspec": {
      "name": "python3",
      "display_name": "Python 3"
    }
  },
  "cells": [
    {
      "cell_type": "code",
      "metadata": {
        "id": "3rRSMALW9jFM",
        "colab_type": "code",
        "outputId": "e2ba899f-2f2b-4902-a756-8dd221f4151c",
        "colab": {
          "base_uri": "https://localhost:8080/",
          "height": 52
        }
      },
      "source": [
        "'''\n",
        "Sorting in python\n",
        "\n",
        "-> binary sort time complexity O(log n) [average case]\n",
        "'''\n",
        "\n",
        "li = [6,5,3457,4573,676,54,785,6857,657,765,647,59,3456,2361,83]\n",
        "li.sort()\n",
        "nm = ['arun','prajesh','pranav','archit','Archit']\n",
        "nm.sort()\n",
        "print(nm)\n",
        "print(li)"
      ],
      "execution_count": 1,
      "outputs": [
        {
          "output_type": "stream",
          "text": [
            "['Archit', 'archit', 'arun', 'prajesh', 'pranav']\n",
            "[5, 6, 54, 59, 83, 647, 657, 676, 765, 785, 2361, 3456, 3457, 4573, 6857]\n"
          ],
          "name": "stdout"
        }
      ]
    },
    {
      "cell_type": "code",
      "metadata": {
        "id": "MdFGwrhQKeJu",
        "colab_type": "code",
        "outputId": "8ed036a2-addc-4d91-c922-4d0349fa3cec",
        "colab": {
          "base_uri": "https://localhost:8080/",
          "height": 54
        }
      },
      "source": [
        "'''\n",
        "Movie recomendation matrix \n",
        "'''\n",
        "\n",
        "matofusers = [\n",
        "    [2.5, 3.5, 3, 3.5, 2.5, 3],\n",
        "    [3, 3.5, 1.5, 5, 3.5, 3],\n",
        "    [2.5, 3, 0, 3.5, 0 ,4],\n",
        "    [0, 3.5, 3, 4, 2.5, 4.5],\n",
        "    [3, 4, 2, 3, 2, 3],\n",
        "    [3, 4, 0, 5, 3.5, 3],\n",
        "    [4.5, 0, 0, 4, 1, 0]\n",
        "]\n",
        "\n",
        "matofmovies = [[movie[i] for movie in matofusers] for i in range(6)]\n",
        "\n",
        "print(matofmovies)"
      ],
      "execution_count": 2,
      "outputs": [
        {
          "output_type": "stream",
          "text": [
            "[[2.5, 3, 2.5, 0, 3, 3, 4.5], [3.5, 3.5, 3, 3.5, 4, 4, 0], [3, 1.5, 0, 3, 2, 0, 0], [3.5, 5, 3.5, 4, 3, 5, 4], [2.5, 3.5, 0, 2.5, 2, 3.5, 1], [3, 3, 4, 4.5, 3, 3, 0]]\n"
          ],
          "name": "stdout"
        }
      ]
    },
    {
      "cell_type": "code",
      "metadata": {
        "id": "G9DmJN2SOcr9",
        "colab_type": "code",
        "outputId": "d3c710ca-6c5f-4c46-e7ae-347bcbd45ef5",
        "colab": {
          "base_uri": "https://localhost:8080/",
          "height": 104
        }
      },
      "source": [
        "del matofusers[2:4]\n",
        "matofusers"
      ],
      "execution_count": 3,
      "outputs": [
        {
          "output_type": "execute_result",
          "data": {
            "text/plain": [
              "[[2.5, 3.5, 3, 3.5, 2.5, 3],\n",
              " [3, 3.5, 1.5, 5, 3.5, 3],\n",
              " [3, 4, 2, 3, 2, 3],\n",
              " [3, 4, 0, 5, 3.5, 3],\n",
              " [4.5, 0, 0, 4, 1, 0]]"
            ]
          },
          "metadata": {
            "tags": []
          },
          "execution_count": 3
        }
      ]
    },
    {
      "cell_type": "code",
      "metadata": {
        "id": "CckzPNvrO0s1",
        "colab_type": "code",
        "outputId": "434546fa-9827-4cc0-84c4-81fe0876a702",
        "colab": {
          "base_uri": "https://localhost:8080/",
          "height": 34
        }
      },
      "source": [
        "li = [10, 20, 30, 40, 50]\n",
        "\n",
        "li[-3:-1]\n"
      ],
      "execution_count": 4,
      "outputs": [
        {
          "output_type": "execute_result",
          "data": {
            "text/plain": [
              "[30, 40]"
            ]
          },
          "metadata": {
            "tags": []
          },
          "execution_count": 4
        }
      ]
    },
    {
      "cell_type": "code",
      "metadata": {
        "id": "-4SAceMZSnH8",
        "colab_type": "code",
        "outputId": "cf398f3a-59a7-46da-d203-8013d01f7eba",
        "colab": {
          "base_uri": "https://localhost:8080/",
          "height": 34
        }
      },
      "source": [
        "'''\n",
        "Tuples\n",
        "\n",
        "-> cannot be modified\n",
        "-> similar type values \n",
        "'''\n",
        "\n",
        "t = (10,20,30,40,50)\n",
        "type(t)\n",
        "\n",
        "#t[0] = 90      Not Supported\n",
        "\n",
        "t"
      ],
      "execution_count": 9,
      "outputs": [
        {
          "output_type": "execute_result",
          "data": {
            "text/plain": [
              "(10, 20, 30, 40, 50)"
            ]
          },
          "metadata": {
            "tags": []
          },
          "execution_count": 9
        }
      ]
    },
    {
      "cell_type": "code",
      "metadata": {
        "id": "PytrhN_6Txp9",
        "colab_type": "code",
        "outputId": "8b8fda08-1f9b-45a2-80e2-8de06acbe82b",
        "colab": {
          "base_uri": "https://localhost:8080/",
          "height": 52
        }
      },
      "source": [
        "dice = {5,6,4,6,3,2,6,1,5}\n",
        "name = set('PranavKhurana')\n",
        "print(dice)\n",
        "name"
      ],
      "execution_count": 7,
      "outputs": [
        {
          "output_type": "stream",
          "text": [
            "{1, 2, 3, 4, 5, 6}\n"
          ],
          "name": "stdout"
        },
        {
          "output_type": "execute_result",
          "data": {
            "text/plain": [
              "{'K', 'P', 'a', 'h', 'n', 'r', 'u', 'v'}"
            ]
          },
          "metadata": {
            "tags": []
          },
          "execution_count": 7
        }
      ]
    },
    {
      "cell_type": "code",
      "metadata": {
        "id": "cNUtc7szW1Ib",
        "colab_type": "code",
        "outputId": "9fe35b23-32a7-4d1d-e005-57f2d1dbc8d9",
        "colab": {
          "base_uri": "https://localhost:8080/",
          "height": 34
        }
      },
      "source": [
        "4 in dice"
      ],
      "execution_count": 8,
      "outputs": [
        {
          "output_type": "execute_result",
          "data": {
            "text/plain": [
              "True"
            ]
          },
          "metadata": {
            "tags": []
          },
          "execution_count": 8
        }
      ]
    }
  ]
}