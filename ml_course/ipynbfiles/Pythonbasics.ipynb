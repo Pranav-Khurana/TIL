{
  "nbformat": 4,
  "nbformat_minor": 0,
  "metadata": {
    "colab": {
      "name": "Pythonbasics.ipynb",
      "version": "0.3.2",
      "provenance": [],
      "collapsed_sections": []
    },
    "kernelspec": {
      "name": "python3",
      "display_name": "Python 3"
    }
  },
  "cells": [
    {
      "cell_type": "code",
      "metadata": {
        "id": "EEVQD77S-rWl",
        "colab_type": "code",
        "outputId": "3c33be0a-499c-4b90-d1f3-e365f920d7c2",
        "colab": {
          "base_uri": "https://localhost:8080/",
          "height": 51
        }
      },
      "source": [
        "#THIS IS CODE TO PRINT MYNAME THRICE\n",
        "myname = \"Hello World\"\n",
        "nextname = \"Bye World\" \n",
        "print((myname+',')*3,myname,nextname,sep=';',end='\\t')\n",
        "print(nextname)\n",
        "\n",
        "#RANGE OF INTEGER\n",
        "import sys\n",
        "print(sys.maxsize) "
      ],
      "execution_count": 1,
      "outputs": [
        {
          "output_type": "stream",
          "text": [
            "Hello World,Hello World,Hello World,;Hello World;Bye World\tBye World\n",
            "9223372036854775807\n"
          ],
          "name": "stdout"
        }
      ]
    },
    {
      "cell_type": "code",
      "metadata": {
        "id": "hOmXg0KPNbju",
        "colab_type": "code",
        "outputId": "fc62f067-b18b-4d57-dc07-f1966c367cd6",
        "colab": {
          "base_uri": "https://localhost:8080/",
          "height": 289
        }
      },
      "source": [
        " '''\n",
        "THIS CODE DOES FOLLOWING\n",
        "1. Get details of Print function\n",
        "2. Numbers in Python\n",
        "'''\n",
        "\n",
        "help(print)\n",
        "print?\n",
        "\n",
        "var = 56\n",
        "print(var)\n",
        "print(type(var),var)\n",
        "type(var)  #DISCARDED BECAUSE THE LATER TYPE WAS PREFERRED \n",
        "var = \"String\"\n",
        "print(var)\n",
        "type(var)\n",
        "\n",
        "#TYPE HAS MORE PRECENDENCE"
      ],
      "execution_count": 2,
      "outputs": [
        {
          "output_type": "stream",
          "text": [
            "Help on built-in function print in module builtins:\n",
            "\n",
            "print(...)\n",
            "    print(value, ..., sep=' ', end='\\n', file=sys.stdout, flush=False)\n",
            "    \n",
            "    Prints the values to a stream, or to sys.stdout by default.\n",
            "    Optional keyword arguments:\n",
            "    file:  a file-like object (stream); defaults to the current sys.stdout.\n",
            "    sep:   string inserted between values, default a space.\n",
            "    end:   string appended after the last value, default a newline.\n",
            "    flush: whether to forcibly flush the stream.\n",
            "\n",
            "56\n",
            "<class 'int'> 56\n",
            "String\n"
          ],
          "name": "stdout"
        },
        {
          "output_type": "execute_result",
          "data": {
            "text/plain": [
              "str"
            ]
          },
          "metadata": {
            "tags": []
          },
          "execution_count": 2
        }
      ]
    },
    {
      "cell_type": "code",
      "metadata": {
        "id": "uyFeH_sWTuHO",
        "colab_type": "code",
        "outputId": "efc2c4fa-ddbd-4721-e282-57f73f408fdf",
        "colab": {
          "base_uri": "https://localhost:8080/",
          "height": 156
        }
      },
      "source": [
        "'''\n",
        "OPERATORS IN PYTHON\n",
        "\n",
        "+ ADDITION\n",
        "- SUBTRACTION\n",
        "* MULTIPLICATION\n",
        "/ DIVSION\n",
        "// FLOOR DIVISION\n",
        "** POWER\n",
        "_  USED TO STORE RESULT OF LAST EXPRESSION\n",
        "\\ EXPANDS EXPRESION TO MULTI LINE\n",
        "'''\n",
        "\n",
        "print(2+(3*4)/(6**2)-7)\n",
        "print(10/5) #DIVION OPERATOR ALWAYS RETURNS FLOAT \n",
        "print(10//5)\n",
        "print(11/5)\n",
        "print(43745**464)\n",
        "sum = 1 + 2 + 3 + \\\n",
        "4 + 5 + 6 + 7 \\\n",
        "+ 8 + 9 + \\\n",
        "10\n",
        "print(sum)\n",
        "# ' / ' EXPANDS AN EXPRESSION TO MULTI LINE\n",
        "\n",
        "4 + 5 + 1"
      ],
      "execution_count": 3,
      "outputs": [
        {
          "output_type": "stream",
          "text": [
            "-4.666666666666666\n",
            "2.0\n",
            "2\n",
            "2.2\n",
            "245916280917687720365942153982334234822300568725249239022434917026631706816717231586585799915606090424262774847037268222447650268463020086768284531202491301360259822526463114877171672233041787959557103667643387047893727993278676142726046445764556311852928796732686904519276507210028030222144551451693274101151746566580267464793186838424852802152630714100854013940068585353344907829228388900086030890810047122597667841043441990078890765295796178038441260159338694212854281664844977215457620623889680733375459470553594901613636646556173078349027119690115553308112755473971636084108562923831929815895577767692338447336570257391188106973187238065892247836869311644679181169411008094277812347922449974925877542864428007296869912190142943081431269503985087419347951882428740341011067966262562986693745521062309237974862803007401680252012911938127573418621034931367973383878787884013812100802223126859404294645109245093194955651788860954145494256756225012009148601120449485406262430152253883333434720348372798239968449696215793932122575974957480082540865667834363020350120332849594160504498822797610730136110374548638751432332705069169704788959401362440667891791077482923561174141384256301057716957996580502936936619609119390074191017873347475286668814538399802401605610695996573790034927000224308370185907904561230101951705978298421529218549065655835111997572117334228467615017255967496609181589183111728765222070896229782239376689437460807170121299789540512002580032675898611004804326874761771617278559663374575507822012070150616463590541963142309362310571832831430594788481392938716937960854202677138758543963393205761566837618224179656145821316325510059425904237504231562295131783131117810160376547423857997105415998450201953383579280031033833488291768437365307582284466793551858622677713173325454442711968809866173320913418485358145604353363232804442347930230742610790958092412505600619962250350139075268245382070729475570609402326460096022681487204341236819715028304342507308986749484883659193572822696744065327039128385644349662041641957849850981299357295461599520344369912144278374659244481292520569035636585617822513771812964478158392012119293212890625\n",
            "55\n"
          ],
          "name": "stdout"
        },
        {
          "output_type": "execute_result",
          "data": {
            "text/plain": [
              "10"
            ]
          },
          "metadata": {
            "tags": []
          },
          "execution_count": 3
        }
      ]
    },
    {
      "cell_type": "code",
      "metadata": {
        "id": "fuxY9Ug1Y2zN",
        "colab_type": "code",
        "outputId": "04e8656b-f753-45f9-c564-afe2acb6bd69",
        "colab": {
          "base_uri": "https://localhost:8080/",
          "height": 34
        }
      },
      "source": [
        "var1 = 45 \n",
        "var1 - _  # ' _ ' RETRIEVES THE RESULT OF PREVIOUS EXPRESSION FROM THE ABOVE CELL, i.e 10 from 35 - 25"
      ],
      "execution_count": 4,
      "outputs": [
        {
          "output_type": "execute_result",
          "data": {
            "text/plain": [
              "35"
            ]
          },
          "metadata": {
            "tags": []
          },
          "execution_count": 4
        }
      ]
    },
    {
      "cell_type": "code",
      "metadata": {
        "id": "aRkRodPcWuGP",
        "colab_type": "code",
        "outputId": "5875d554-673a-4f10-f533-67970e5bd3d1",
        "colab": {
          "base_uri": "https://localhost:8080/",
          "height": 119
        }
      },
      "source": [
        "'''\n",
        " S  T  R  I  N  G  S\n",
        " 0  1  2  3  4  5  6\n",
        "-7 -6 -5 -4 -3 -2 -1\n",
        "'''\n",
        "\n",
        "name = \"PRANAV KHURANA\"\n",
        "st = \"STRINGS\"\n",
        "print(name)\n",
        "print(name[3])\n",
        "print(name[2:5])\n",
        "print(name[2:12:2])\n",
        "print(name[-14:-1])\n",
        "print(st[-6:-1:2])\n"
      ],
      "execution_count": 5,
      "outputs": [
        {
          "output_type": "stream",
          "text": [
            "PRANAV KHURANA\n",
            "N\n",
            "ANA\n",
            "AA HR\n",
            "PRANAV KHURAN\n",
            "TIG\n"
          ],
          "name": "stdout"
        }
      ]
    },
    {
      "cell_type": "code",
      "metadata": {
        "id": "mWIeyZ_nDIgf",
        "colab_type": "code",
        "outputId": "2e6bf60d-98c9-4c72-ebce-96d6f4619b52",
        "colab": {
          "base_uri": "https://localhost:8080/",
          "height": 170
        }
      },
      "source": [
        "'''\n",
        "STRING CONCATENATION \n",
        "\n",
        "+ --> left and right values must be string\n",
        ", --> operands must not be string\n",
        "\n",
        "ESCAPE SEQUENCE\n",
        "\n",
        "\\ -> used before writing special escape sequence chasracters ex \\n \\t \\' etc'\n",
        "r -> clears the special meaning of escape sequence characters, it does'nt works on in built escape sequences \n",
        "'''\n",
        "\n",
        "str1 = \"Myname\"\n",
        "str2 = \"Yourname\"\n",
        "print(str1 + str2)\n",
        "print(str1 + str2 + str(17))\n",
        "print(str1 , str2)\n",
        "print(str1 , str2 , 17)\n",
        "\n",
        "print('I DIDN\\'T DO THAT\\\\')\n",
        "print(\"HE SAID, \\\"HELLO!\\\"\")\n",
        "print(r'I DIDN\\'T DO THAT')\n",
        "print(r\"HE SAID, \\\"HELLO!\\\"\")\n",
        "print(\"C:\\\\ABC\\\\Temp\\\\newfile\")\n",
        "\n"
      ],
      "execution_count": 6,
      "outputs": [
        {
          "output_type": "stream",
          "text": [
            "MynameYourname\n",
            "MynameYourname17\n",
            "Myname Yourname\n",
            "Myname Yourname 17\n",
            "I DIDN'T DO THAT\\\n",
            "HE SAID, \"HELLO!\"\n",
            "I DIDN\\'T DO THAT\n",
            "HE SAID, \\\"HELLO!\\\"\n",
            "C:\\ABC\\Temp\\newfile\n"
          ],
          "name": "stdout"
        }
      ]
    },
    {
      "cell_type": "code",
      "metadata": {
        "id": "2JX_GFSaJJpw",
        "colab_type": "code",
        "outputId": "6083f0a8-36d1-4c81-8217-633240a8d916",
        "colab": {
          "base_uri": "https://localhost:8080/",
          "height": 204
        }
      },
      "source": [
        "'''\n",
        "SPECIAL STRINGS\n",
        "'''\n",
        "#'''THIS STRING WILL BE PRINTED AS IT IS \n",
        "      #FORMATING IS PRESEVED'''\n",
        "\n",
        "str1 = '''\n",
        "STRING1\n",
        "       String2\n",
        "              StRiNg3\n",
        "\n",
        "''' \n",
        "\n",
        "print('''\n",
        "usage : sudo mkdir\n",
        "    sudo : super user do\n",
        "    mkdir : make directory\n",
        "''')\n",
        "print(str1)"
      ],
      "execution_count": 7,
      "outputs": [
        {
          "output_type": "stream",
          "text": [
            "\n",
            "usage : sudo mkdir\n",
            "    sudo : super user do\n",
            "    mkdir : make directory\n",
            "\n",
            "\n",
            "STRING1\n",
            "       String2\n",
            "              StRiNg3\n",
            "\n",
            "\n"
          ],
          "name": "stdout"
        }
      ]
    },
    {
      "cell_type": "code",
      "metadata": {
        "id": "1LEVrXB7LlkN",
        "colab_type": "code",
        "outputId": "a52614ad-c1ea-4810-b6c9-f58913611eef",
        "colab": {
          "base_uri": "https://localhost:8080/",
          "height": 85
        }
      },
      "source": [
        "'''\n",
        "INPUT FUNCTION\n",
        "'''\n",
        "\n",
        "print(type(int(input(\"ENTER A NUMBER:\"))))\n",
        "print('HELLO ' + input(\"ENTER YOUR NAME: \"))"
      ],
      "execution_count": 8,
      "outputs": [
        {
          "output_type": "stream",
          "text": [
            "ENTER A NUMBER:5\n",
            "<class 'int'>\n",
            "ENTER YOUR NAME: Pranav\n",
            "HELLO Pranav\n"
          ],
          "name": "stdout"
        }
      ]
    },
    {
      "cell_type": "code",
      "metadata": {
        "id": "ZlDrFTBkOGfl",
        "colab_type": "code",
        "outputId": "99f4b54e-ab7b-4a0a-c93c-a8a749222207",
        "colab": {
          "base_uri": "https://localhost:8080/",
          "height": 153
        }
      },
      "source": [
        "'''\n",
        "CONDITIONAL STATEMENTS\n",
        "\n",
        "-> if elif\n",
        "'''\n",
        "\n",
        "x = int(input(\"ENTER A NUMBER:\"))\n",
        "if 14+6 and 45 and x :\n",
        "  print(\"SOMETHING TRUE!\")\n",
        "elif not 0 and (x + 1) :\n",
        "  print(\"GOING FINE!\")\n",
        "else :\n",
        "  print(\"ERROR IN 'x'\")\n",
        "  \n",
        "\n",
        "v1 = int(input(\"ENTER A NUMBER:\"))\n",
        "v2 = int(input(\"ENTER A NUMBER:\"))\n",
        "v3 = int(input(\"ENTER A NUMBER:\"))\n",
        "v4 = int(input(\"ENTER A NUMBER:\"))\n",
        "v5 = int(input(\"ENTER A NUMBER:\"))\n",
        "\n",
        "l = 0\n",
        "\n",
        "if v1>l:\n",
        "  l = v1\n",
        "if v2>l:\n",
        "  l = v2\n",
        "if v3>l:\n",
        "  l = v3\n",
        "if v4>l:\n",
        "  l = v4\n",
        "if v5>l:\n",
        "  l = v5\n",
        "print(l)  "
      ],
      "execution_count": 9,
      "outputs": [
        {
          "output_type": "stream",
          "text": [
            "ENTER A NUMBER:78\n",
            "SOMETHING TRUE!\n",
            "ENTER A NUMBER:45\n",
            "ENTER A NUMBER:8\n",
            "ENTER A NUMBER:65\n",
            "ENTER A NUMBER:6\n",
            "ENTER A NUMBER:576\n",
            "576\n"
          ],
          "name": "stdout"
        }
      ]
    },
    {
      "cell_type": "code",
      "metadata": {
        "id": "cKN5Gs8pWCuJ",
        "colab_type": "code",
        "outputId": "9c64fd97-a9b4-4f4b-f803-84f70901bdbc",
        "colab": {
          "base_uri": "https://localhost:8080/",
          "height": 360
        }
      },
      "source": [
        "'''\n",
        "ITERATIONAL STATEMENTS\n",
        "\n",
        "-> FOR LOOP\n",
        "\n",
        "'''\n",
        "\n",
        "\n",
        "li = []\n",
        "for i in range(int(input('ENTER NUMBER OF MEMBERS:'))):\n",
        "  var1 = input('Enter name of member ' + str(i+1)+ \": \")\n",
        "  print('Hello ' + var1 + '!')\n",
        "  li.append(var1)\n",
        "  for j in var1:\n",
        "    print(j,end=' ')\n",
        "  print()\n",
        "  \n",
        "for _ in li:\n",
        "  print(_,end=';')\n",
        "  \n",
        "print()\n",
        "\n",
        "print(list(range(-50,51,2)))\n",
        "\n",
        "for _ in range(1,11):\n",
        "  print('13 *',_,'=',_*13)\n",
        "\n"
      ],
      "execution_count": 10,
      "outputs": [
        {
          "output_type": "stream",
          "text": [
            "ENTER NUMBER OF MEMBERS:2\n",
            "Enter name of member 1: Pranav\n",
            "Hello Pranav!\n",
            "P r a n a v \n",
            "Enter name of member 2: Saurabh\n",
            "Hello Saurabh!\n",
            "S a u r a b h \n",
            "Pranav;Saurabh;\n",
            "[-50, -48, -46, -44, -42, -40, -38, -36, -34, -32, -30, -28, -26, -24, -22, -20, -18, -16, -14, -12, -10, -8, -6, -4, -2, 0, 2, 4, 6, 8, 10, 12, 14, 16, 18, 20, 22, 24, 26, 28, 30, 32, 34, 36, 38, 40, 42, 44, 46, 48, 50]\n",
            "13 * 1 = 13\n",
            "13 * 2 = 26\n",
            "13 * 3 = 39\n",
            "13 * 4 = 52\n",
            "13 * 5 = 65\n",
            "13 * 6 = 78\n",
            "13 * 7 = 91\n",
            "13 * 8 = 104\n",
            "13 * 9 = 117\n",
            "13 * 10 = 130\n"
          ],
          "name": "stdout"
        }
      ]
    }
  ]
}